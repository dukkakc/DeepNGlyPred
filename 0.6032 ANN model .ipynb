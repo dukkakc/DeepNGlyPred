version https://git-lfs.github.com/spec/v1
oid sha256:4cef9e2a515610db53bad959d0c82119c6aeb769ba018b14680c4c168ad64bbb
size 5357
