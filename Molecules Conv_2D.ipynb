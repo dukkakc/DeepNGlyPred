version https://git-lfs.github.com/spec/v1
oid sha256:8fec2cf8f964e40df9d2f8def799cf29eed5b49ff468a4beafcd54eb1a22d009
size 7592
