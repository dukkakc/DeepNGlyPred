{
 "cells": [
  {
   "cell_type": "code",
   "execution_count": 9,
   "metadata": {},
   "outputs": [],
   "source": [
    "import pandas as pd\n",
    "import numpy as np\n",
    "import seaborn as sns\n",
    "import matplotlib.pyplot as plt\n",
    "from sklearn.model_selection import train_test_split\n",
    "from sklearn.ensemble import RandomForestClassifier\n",
    "from sklearn.feature_selection import SelectFromModel\n",
    "from sklearn.metrics import accuracy_score\n",
    "from imblearn.under_sampling import RandomUnderSampler\n",
    "from sklearn.svm import SVC\n",
    "from sklearn.metrics import confusion_matrix\n",
    "from sklearn.metrics import matthews_corrcoef\n",
    "from sklearn.utils import shuffle\n",
    "from sklearn.preprocessing import MinMaxScaler\n",
    "from numpy import sort\n",
    "from sklearn.feature_selection import SelectFromModel\n",
    "from sklearn.ensemble import RandomForestClassifier\n",
    "from sklearn.metrics import precision_score, recall_score\n",
    "from sklearn.metrics import *\n",
    "from sklearn.metrics import roc_curve, roc_auc_score\n",
    "%matplotlib inline\n",
    "import keras"
   ]
  },
  {
   "cell_type": "markdown",
   "metadata": {},
   "source": [
    "# Load Test Dataset"
   ]
  },
  {
   "cell_type": "code",
   "execution_count": 2,
   "metadata": {},
   "outputs": [],
   "source": [
    "df_test = pd.read_csv(\"All_feature_Independent_dataframe.csv\")"
   ]
  },
  {
   "cell_type": "markdown",
   "metadata": {},
   "source": [
    "# NetSurfP-2.0 Features"
   ]
  },
  {
   "cell_type": "code",
   "execution_count": 3,
   "metadata": {},
   "outputs": [
    {
     "name": "stdout",
     "output_type": "stream",
     "text": [
      "1680\n",
      "0\n"
     ]
    }
   ],
   "source": [
    "X_test_NetSurfP2 = df_test.iloc[:,2100:2428]\n",
    "\n",
    "y_test_NetSurfP2 = df_test[\"Target\"]\n",
    "\n",
    "\n",
    "print(X_test_NetSurfP2.isnull().sum().sum())\n",
    "X_test_NetSurfP2.fillna(0,inplace=True)\n",
    "print(X_test_NetSurfP2.isnull().sum().sum())\n",
    "\n",
    "scaler = MinMaxScaler()\n",
    "\n",
    "\n",
    "X_test_NetSurfP2 = scaler.fit_transform(X_test_NetSurfP2)\n",
    "\n",
    "\n",
    "X_test_NetSurfP2 = np.array(X_test_NetSurfP2)\n",
    "y_test_NetSurfP2 = np.array(y_test_NetSurfP2)"
   ]
  },
  {
   "cell_type": "markdown",
   "metadata": {},
   "source": [
    "# PSSM Features"
   ]
  },
  {
   "cell_type": "code",
   "execution_count": 4,
   "metadata": {},
   "outputs": [
    {
     "name": "stdout",
     "output_type": "stream",
     "text": [
      "4200\n",
      "0\n"
     ]
    }
   ],
   "source": [
    "X_test_PSSM_test = df_test.iloc[:,1280:2100]\n",
    "\n",
    "y_test_PSSM = df_test[\"Target\"]\n",
    "\n",
    "print(X_test_PSSM_test.isnull().sum().sum())\n",
    "X_test_PSSM_test.fillna(0,inplace=True)\n",
    "print(X_test_PSSM_test.isnull().sum().sum())\n",
    "\n",
    "scaler = MinMaxScaler()\n",
    "\n",
    "\n",
    "X_test_PSSM_test = scaler.fit_transform(X_test_PSSM_test)\n",
    "\n",
    "\n",
    "X_test_PSSM_test = np.array(X_test_PSSM_test)\n",
    "y_test_PSSM = np.array(y_test_PSSM)"
   ]
  },
  {
   "cell_type": "markdown",
   "metadata": {},
   "source": [
    "# Gapped Dipeptide Features"
   ]
  },
  {
   "cell_type": "code",
   "execution_count": 5,
   "metadata": {},
   "outputs": [],
   "source": [
    "X_test_Gapped_Dipeptide = df_test.iloc[:,2428:2468]\n",
    "\n",
    "y_test_Gapped_Dipeptide = df_test[\"Target\"]\n",
    "\n",
    "\n",
    "scaler = MinMaxScaler()\n",
    "\n",
    "\n",
    "X_test_Gapped_Dipeptide = scaler.fit_transform(X_test_Gapped_Dipeptide)\n",
    "\n",
    "\n",
    "X_test_Gapped_Dipeptide = np.array(X_test_Gapped_Dipeptide)\n",
    "y_test_Gapped_Dipeptide = np.array(y_test_Gapped_Dipeptide)"
   ]
  },
  {
   "cell_type": "markdown",
   "metadata": {},
   "source": [
    "# Combine Three features and check the shape of the features"
   ]
  },
  {
   "cell_type": "code",
   "execution_count": 7,
   "metadata": {},
   "outputs": [
    {
     "name": "stdout",
     "output_type": "stream",
     "text": [
      "(447, 1188)\n",
      "(447,)\n"
     ]
    }
   ],
   "source": [
    "X_test_PSSM_NetSurfP2_Gapped_Dipeptide = np.hstack((X_test_PSSM_test,X_test_NetSurfP2,X_test_Gapped_Dipeptide))\n",
    "y_test_PSSM_NetSurfP2_Gapped_Dipeptide = y_test_Gapped_Dipeptide\n",
    "\n",
    "X_test = X_test_PSSM_NetSurfP2_Gapped_Dipeptide\n",
    "y_test = y_test_PSSM_NetSurfP2_Gapped_Dipeptide\n",
    "\n",
    "X_test = np.array(X_test)\n",
    "y_test = np.array(y_test)\n",
    "\n",
    "print(X_test.shape)\n",
    "print(y_test.shape)"
   ]
  },
  {
   "cell_type": "markdown",
   "metadata": {},
   "source": [
    "# Load the model and see the performance matrices"
   ]
  },
  {
   "cell_type": "code",
   "execution_count": 18,
   "metadata": {},
   "outputs": [
    {
     "name": "stdout",
     "output_type": "stream",
     "text": [
      "Matthews Correlation :  0.5646102635159639\n",
      "Confusion Matrix : \n",
      " [[210  70]\n",
      " [ 28 139]]\n",
      "Accuracy on test set:    0.7807606263982103\n",
      "0.5646102635159639\n",
      "Sensitivity:    0.8323353293413174 \t Specificity:    0.75\n",
      "              precision    recall  f1-score   support\n",
      "\n",
      "           0       0.88      0.75      0.81       280\n",
      "           1       0.67      0.83      0.74       167\n",
      "\n",
      "    accuracy                           0.78       447\n",
      "   macro avg       0.77      0.79      0.78       447\n",
      "weighted avg       0.80      0.78      0.78       447\n",
      "\n",
      "Area Under Curve:    0.7911676646706587\n"
     ]
    }
   ],
   "source": [
    "model = keras.models.load_model(\"Concomitant13.h5\")\n",
    "Y_pred = model.predict(X_test)\n",
    "Y_pred = (Y_pred > 0.5)\n",
    "y_pred = [np.argmax(y, axis=None, out=None) for y in Y_pred]\n",
    "y_pred = np.array(y_pred)\n",
    "print(\"Matthews Correlation : \",matthews_corrcoef(y_test, y_pred))\n",
    "print(\"Confusion Matrix : \\n\",confusion_matrix(y_test, y_pred))\n",
    "print(\"Accuracy on test set:   \",accuracy_score(y_test, y_pred))\n",
    "\n",
    "cm = confusion_matrix(y_test, y_pred)\n",
    "mcc = matthews_corrcoef(y_test, y_pred)\n",
    "print(mcc)\n",
    "\n",
    "TP = cm[1][1]\n",
    "TN = cm[0][0]\n",
    "FP = cm[0][1]\n",
    "FN = cm[1][0]\n",
    "\n",
    "Sensitivity = TP/(TP+FN)\n",
    "\n",
    "Specificity = TN/(TN+FP)\n",
    "\n",
    "print(\"Sensitivity:   \",Sensitivity,\"\\t\",\"Specificity:   \",Specificity)\n",
    "\n",
    "print(classification_report(y_test, y_pred))\n",
    "\n",
    "fpr, tpr, _ = roc_curve(y_test, y_pred)\n",
    "\n",
    "roc_auc_test = auc(fpr,tpr)\n",
    "\n",
    "print(\"Area Under Curve:   \",roc_auc_test)"
   ]
  },
  {
   "cell_type": "code",
   "execution_count": null,
   "metadata": {},
   "outputs": [],
   "source": []
  }
 ],
 "metadata": {
  "kernelspec": {
   "display_name": "Python 3",
   "language": "python",
   "name": "python3"
  },
  "language_info": {
   "codemirror_mode": {
    "name": "ipython",
    "version": 3
   },
   "file_extension": ".py",
   "mimetype": "text/x-python",
   "name": "python",
   "nbconvert_exporter": "python",
   "pygments_lexer": "ipython3",
   "version": "3.8.3"
  }
 },
 "nbformat": 4,
 "nbformat_minor": 4
}
