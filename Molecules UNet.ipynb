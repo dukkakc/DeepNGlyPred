version https://git-lfs.github.com/spec/v1
oid sha256:4493fd8cc14809432b874cc1046610abd37b5b35a60cddc9dd4c9abe77614933
size 7553
