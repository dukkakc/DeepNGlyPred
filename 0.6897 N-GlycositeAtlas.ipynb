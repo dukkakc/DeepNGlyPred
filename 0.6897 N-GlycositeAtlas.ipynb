{
 "cells": [
  {
   "cell_type": "code",
   "execution_count": 1,
   "metadata": {},
   "outputs": [],
   "source": [
    "import pandas as pd\n",
    "import numpy as np\n",
    "import matplotlib.pyplot as plt\n",
    "%matplotlib inline\n",
    "import keras\n",
    "from sklearn.preprocessing import MinMaxScaler\n",
    "from sklearn.utils import shuffle\n",
    "from sklearn.model_selection import train_test_split\n",
    "from keras.layers import Dense, Bidirectional,Dense, LSTM, Activation, Dropout, Flatten\n",
    "from keras.layers import LeakyReLU\n",
    "from sklearn.metrics import confusion_matrix\n",
    "from sklearn.metrics import matthews_corrcoef\n",
    "from sklearn.metrics import accuracy_score\n",
    "from keras.models import Sequential\n",
    "import tensorflow as tf\n",
    "from keras.regularizers import l2\n",
    "from tensorflow.keras import regularizers\n",
    "from sklearn.metrics import classification_report,roc_curve,auc"
   ]
  },
  {
   "cell_type": "code",
   "execution_count": 2,
   "metadata": {},
   "outputs": [],
   "source": [
    "df_test = pd.read_csv(\"All_feature_Independent_dataframe.csv\")"
   ]
  },
  {
   "cell_type": "markdown",
   "metadata": {},
   "source": [
    "# NetSurfP - 2.0 features"
   ]
  },
  {
   "cell_type": "code",
   "execution_count": 3,
   "metadata": {},
   "outputs": [
    {
     "name": "stdout",
     "output_type": "stream",
     "text": [
      "1680\n",
      "0\n"
     ]
    }
   ],
   "source": [
    "X_test_NetSurfP2 = df_test.iloc[:,2100:2428]\n",
    "\n",
    "y_test_NetSurfP2 = df_test[\"Target\"]\n",
    "\n",
    "\n",
    "print(X_test_NetSurfP2.isnull().sum().sum())\n",
    "X_test_NetSurfP2.fillna(0,inplace=True)\n",
    "print(X_test_NetSurfP2.isnull().sum().sum())\n",
    "\n",
    "scaler = MinMaxScaler()\n",
    "\n",
    "\n",
    "X_test_NetSurfP2 = scaler.fit_transform(X_test_NetSurfP2)\n",
    "\n",
    "\n",
    "X_test_NetSurfP2 = np.array(X_test_NetSurfP2)\n",
    "y_test_NetSurfP2 = np.array(y_test_NetSurfP2)"
   ]
  },
  {
   "cell_type": "markdown",
   "metadata": {},
   "source": [
    "# Gapped Dipeptide features"
   ]
  },
  {
   "cell_type": "code",
   "execution_count": 4,
   "metadata": {},
   "outputs": [],
   "source": [
    "X_test_Gapped_Dipeptide = df_test.iloc[:,2428:2468]\n",
    "\n",
    "y_test_Gapped_Dipeptide = df_test[\"Target\"]\n",
    "\n",
    "\n",
    "scaler = MinMaxScaler()\n",
    "\n",
    "\n",
    "X_test_Gapped_Dipeptide = scaler.fit_transform(X_test_Gapped_Dipeptide)\n",
    "\n",
    "\n",
    "X_test_Gapped_Dipeptide = np.array(X_test_Gapped_Dipeptide)\n",
    "y_test_Gapped_Dipeptide = np.array(y_test_Gapped_Dipeptide)"
   ]
  },
  {
   "cell_type": "markdown",
   "metadata": {},
   "source": [
    "# PSSM Features"
   ]
  },
  {
   "cell_type": "code",
   "execution_count": 5,
   "metadata": {},
   "outputs": [
    {
     "name": "stdout",
     "output_type": "stream",
     "text": [
      "4200\n",
      "0\n"
     ]
    }
   ],
   "source": [
    "X_test_PSSM_test = df_test.iloc[:,1280:2100]\n",
    "\n",
    "y_test_PSSM = df_test[\"Target\"]\n",
    "\n",
    "print(X_test_PSSM_test.isnull().sum().sum())\n",
    "X_test_PSSM_test.fillna(0,inplace=True)\n",
    "print(X_test_PSSM_test.isnull().sum().sum())\n",
    "\n",
    "scaler = MinMaxScaler()\n",
    "\n",
    "\n",
    "X_test_PSSM_test = scaler.fit_transform(X_test_PSSM_test)\n",
    "\n",
    "\n",
    "X_test_PSSM_test = np.array(X_test_PSSM_test)\n",
    "y_test_PSSM = np.array(y_test_PSSM)"
   ]
  },
  {
   "cell_type": "markdown",
   "metadata": {},
   "source": [
    "# Combine features (NetSurfP - 2.0 + Gapped Dipeptide + PSSM)"
   ]
  },
  {
   "cell_type": "code",
   "execution_count": 6,
   "metadata": {},
   "outputs": [],
   "source": [
    "X_test_NetSurfP2_Gapped_Dipeptide_PSSM = np.hstack((X_test_PSSM_test,X_test_NetSurfP2,X_test_Gapped_Dipeptide))"
   ]
  },
  {
   "cell_type": "code",
   "execution_count": 8,
   "metadata": {},
   "outputs": [],
   "source": [
    "y_test_test = df_test[\"Target\"]\n",
    "y_test_test = np.array(y_test_test)"
   ]
  },
  {
   "cell_type": "code",
   "execution_count": null,
   "metadata": {},
   "outputs": [],
   "source": [
    "model = keras.models.load_model(\"go_to_buy_car_large_dataset_GD_PSSM_NetsurfP2.0\"+str(133)+\".h5\")\n",
    "Y_pred = model.predict(X_test_NetSurfP2_Gapped_Dipeptide_PSSM)\n",
    "Y_pred = (Y_pred > 0.5)\n",
    "y_pred = [np.argmax(y, axis=None, out=None) for y in Y_pred]\n",
    "y_pred = np.array(y_pred)\n",
    "print(\"Matthews Correlation : \",matthews_corrcoef(y_test_test, y_pred))\n",
    "print(\"Confusion Matrix : \\n\",confusion_matrix(y_test_test, y_pred))\n",
    "print(\"Accuracy on test set:   \",accuracy_score(y_test_test, y_pred))\n",
    "\n",
    "cm = confusion_matrix(y_test_test, y_pred)\n",
    "mcc = matthews_corrcoef(y_test_test, y_pred)\n",
    "MCC.append(mcc)\n",
    "\n",
    "TP = cm[1][1]\n",
    "TN = cm[0][0]\n",
    "FP = cm[0][1]\n",
    "FN = cm[1][0]\n",
    "\n",
    "Sensitivity = TP/(TP+FN)\n",
    "\n",
    "Specificity = TN/(TN+FP)\n",
    "\n",
    "print(\"Sensitivity:   \",Sensitivity,\"\\t\",\"Specificity:   \",Specificity)\n",
    "\n",
    "print(classification_report(y_test_test, y_pred))\n",
    "\n",
    "fpr, tpr, _ = roc_curve(y_test_test, y_pred)\n",
    "\n",
    "roc_auc_test = auc(fpr,tpr)\n",
    "\n",
    "print(\"Area Under Curve:   \",roc_auc_test)"
   ]
  }
 ],
 "metadata": {
  "kernelspec": {
   "display_name": "Python 3",
   "language": "python",
   "name": "python3"
  },
  "language_info": {
   "codemirror_mode": {
    "name": "ipython",
    "version": 3
   },
   "file_extension": ".py",
   "mimetype": "text/x-python",
   "name": "python",
   "nbconvert_exporter": "python",
   "pygments_lexer": "ipython3",
   "version": "3.8.5"
  }
 },
 "nbformat": 4,
 "nbformat_minor": 4
}
