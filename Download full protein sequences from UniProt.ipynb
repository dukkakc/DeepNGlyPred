{
 "cells": [
  {
   "cell_type": "code",
   "execution_count": null,
   "metadata": {},
   "outputs": [],
   "source": [
    "from Bio import SeqIO\n",
    "from tqdm import tqdm\n",
    "import requests\n",
    "from io import StringIO\n",
    "from time import sleep\n",
    "\n",
    "filename = 'Positive samples from N-GlycositeAtlas_and negative samples from Deep_Loc nucleus mitochondrion subcellular localization.txt'\n",
    "ids = set()  \n",
    "         \n",
    "a_file = open(filename)\n",
    "\n",
    "lines = a_file.readlines()[1:]\n",
    "for line in lines:\n",
    "        a = line.split()\n",
    "        ids.add(a[1])\n",
    "        \n",
    "a_file.close()\n",
    "\n",
    "f = open('Pos_Nglycositealtas_Neg_nucleus_mitochondrion.fasta', 'a' )\n",
    "\n",
    "ids = list(ids)\n",
    "\n",
    "for idx,id in tqdm(enumerate(ids)):\n",
    "    base_url=\"http://www.uniprot.org/uniprot/\"\n",
    "    current_url=base_url+id+\".fasta\"\n",
    "    response = requests.post(current_url)\n",
    "    c_data=''.join(response.text)\n",
    " \n",
    "    Seq=StringIO(c_data)\n",
    "    for record in SeqIO.parse(Seq, \"fasta\"):  \n",
    "        f.write(str('>'+record.id)+'\\n'+str(record.seq)+'\\n')\n",
    "       \n",
    "        # display progress\n",
    "        if(idx%100 ==0):\n",
    "            print(\"Working on ID: \"+str(idx)+'--'+ id)\n",
    "           \n",
    "            # give some rest to server :P\n",
    "            sleep(0.01)\n",
    "f.close()"
   ]
  }
 ],
 "metadata": {
  "kernelspec": {
   "display_name": "Python 3",
   "language": "python",
   "name": "python3"
  },
  "language_info": {
   "codemirror_mode": {
    "name": "ipython",
    "version": 3
   },
   "file_extension": ".py",
   "mimetype": "text/x-python",
   "name": "python",
   "nbconvert_exporter": "python",
   "pygments_lexer": "ipython3",
   "version": "3.8.3"
  }
 },
 "nbformat": 4,
 "nbformat_minor": 4
}
